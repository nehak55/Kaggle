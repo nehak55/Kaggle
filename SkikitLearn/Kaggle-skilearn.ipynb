{
 "cells": [
  {
   "cell_type": "code",
   "execution_count": 116,
   "metadata": {
    "collapsed": true
   },
   "outputs": [],
   "source": [
    "import numpy as np\n",
    "from sklearn import svm\n",
    "from sklearn import decomposition"
   ]
  },
  {
   "cell_type": "code",
   "execution_count": 117,
   "metadata": {
    "collapsed": false
   },
   "outputs": [
    {
     "data": {
      "text/plain": [
       "array([[ 0.29940251, -1.22662419,  1.49842505, ..., -2.71555881,\n",
       "        -2.68240859,  0.10105047],\n",
       "       [-1.17417585,  0.33215734,  0.94991875, ...,  1.21321926,\n",
       "         1.38293163, -1.81776106],\n",
       "       [ 1.19222208, -0.41437073,  0.06705418, ...,  0.6564375 ,\n",
       "        -0.93247282,  2.9874358 ],\n",
       "       ..., \n",
       "       [ 0.91274769, -1.73403887, -1.04703517, ...,  0.06151283,\n",
       "         0.8955364 ,  0.81368551],\n",
       "       [ 2.43977998, -0.73551082, -0.90242559, ...,  0.22974842,\n",
       "        -2.31108844, -3.4222166 ],\n",
       "       [ 0.2289942 , -0.08545331,  0.87658248, ...,  0.40037229,\n",
       "        -3.43103056,  2.37007995]])"
      ]
     },
     "execution_count": 117,
     "metadata": {},
     "output_type": "execute_result"
    }
   ],
   "source": [
    "dataset_train = np.loadtxt(\"/Users/neha/Documents/Kaggle/SkikitLearn/train.csv\", delimiter=\",\")\n",
    "dataset_label = np.loadtxt(\"/Users/neha/Documents/Kaggle/SkikitLearn/trainLabels.csv\", delimiter=\",\")\n",
    "dataset_test = np.loadtxt(\"/Users/neha/Documents/Kaggle/SkikitLearn/test.csv\", delimiter=\",\")\n",
    "dataset_train"
   ]
  },
  {
   "cell_type": "code",
   "execution_count": 118,
   "metadata": {
    "collapsed": false
   },
   "outputs": [],
   "source": [
    "pca = decomposition.PCA(n_components=30, whiten=True)\n",
    "train_pca = pca.fit_transform(dataset_train)\n",
    "test_pca = pca.transform(dataset_test)"
   ]
  },
  {
   "cell_type": "code",
   "execution_count": 119,
   "metadata": {
    "collapsed": false
   },
   "outputs": [
    {
     "name": "stdout",
     "output_type": "stream",
     "text": [
      "[ 0.25054403  0.2055048   0.08026473  0.05033658  0.04895951  0.04489904\n",
      "  0.04170781  0.03127937  0.02309827  0.02100166  0.0161973   0.01269925\n",
      "  0.00885168  0.00846122  0.00827947  0.00817823  0.00808196  0.0078834\n",
      "  0.00770056  0.00764196  0.00742926  0.00735226  0.00711202  0.00706576\n",
      "  0.00691463  0.00684684  0.00663475  0.00646844  0.00632196  0.00625703]\n"
     ]
    }
   ],
   "source": [
    "print(pca.explained_variance_ratio_) "
   ]
  },
  {
   "cell_type": "code",
   "execution_count": 120,
   "metadata": {
    "collapsed": false
   },
   "outputs": [
    {
     "data": {
      "text/plain": [
       "0.96"
      ]
     },
     "execution_count": 120,
     "metadata": {},
     "output_type": "execute_result"
    }
   ],
   "source": [
    "#cumulative variance explained by first 30 principal components\n",
    "round(sum(pca.explained_variance_ratio_),2)"
   ]
  },
  {
   "cell_type": "code",
   "execution_count": 121,
   "metadata": {
    "collapsed": false
   },
   "outputs": [],
   "source": [
    "##### implementation#####\n",
    "from sklearn.cross_validation import train_test_split\n",
    "X_train, X_test, y_train, y_test = train_test_split(\n",
    "train_pca, dataset_label, test_size=0.20, random_state=0)"
   ]
  },
  {
   "cell_type": "code",
   "execution_count": 122,
   "metadata": {
    "collapsed": true
   },
   "outputs": [],
   "source": [
    "svc_1 = svm.SVC(kernel='linear')"
   ]
  },
  {
   "cell_type": "code",
   "execution_count": 123,
   "metadata": {
    "collapsed": false
   },
   "outputs": [
    {
     "name": "stdout",
     "output_type": "stream",
     "text": [
      "[ 0.82608696  0.8173913   0.79824561  0.74561404  0.8245614   0.89473684\n",
      "  0.84210526]\n",
      "Mean score: 0.821 (+/-0.017)\n"
     ]
    }
   ],
   "source": [
    "# splitting the data set into training and testing\n",
    "from sklearn.cross_validation import cross_val_score, KFold\n",
    "from scipy.stats import sem\n",
    "def evaluate_cross_validation(clf, X, y, K):\n",
    "    #  # create a k-fold croos validation iterator\n",
    "    cv = KFold(len(y), K, shuffle=True, random_state=0)    \n",
    "# by default the score used is the one returned by score \n",
    "   # method of the estimator (accuracy)\n",
    "    scores = cross_val_score(clf, X, y, cv=cv)\n",
    "    print scores\n",
    "    print (\"Mean score: {0:.3f} (+/-{1:.3f})\").format(\n",
    "        np.mean(scores), sem(scores))\n",
    "\n",
    "evaluate_cross_validation(svc_1, X_train, y_train, 7)\n"
   ]
  },
  {
   "cell_type": "code",
   "execution_count": 124,
   "metadata": {
    "collapsed": false
   },
   "outputs": [],
   "source": [
    "from sklearn import metrics\n",
    "def train_and_evaluate(clf, X_train, X_test, y_train, y_test):\n",
    "    clf.fit(X_train, y_train)\n",
    "    print \"Accuracy on training set:\"\n",
    "    print round(clf.score(X_train, y_train),2)\n",
    "    print \"Accuracy on testing set:\"\n",
    "    print round(clf.score(X_test, y_test),2)\n",
    "    y_pred = clf.predict(X_test)\n",
    "    print \"Classification Report:\"\n",
    "    print metrics.classification_report(y_test, y_pred)\n",
    "    print \"Confusion Matrix:\"\n",
    "    print metrics.confusion_matrix(y_test, y_pred)\n",
    "      "
   ]
  },
  {
   "cell_type": "code",
   "execution_count": 125,
   "metadata": {
    "collapsed": false
   },
   "outputs": [
    {
     "name": "stdout",
     "output_type": "stream",
     "text": [
      "Accuracy on training set:\n",
      "0.84\n",
      "Accuracy on testing set:\n",
      "0.81\n",
      "Classification Report:\n",
      "             precision    recall  f1-score   support\n",
      "\n",
      "        0.0       0.79      0.78      0.78        89\n",
      "        1.0       0.82      0.84      0.83       111\n",
      "\n",
      "avg / total       0.81      0.81      0.81       200\n",
      "\n",
      "Confusion Matrix:\n",
      "[[69 20]\n",
      " [18 93]]\n"
     ]
    }
   ],
   "source": [
    "train_and_evaluate(svc_1, X_train, X_test, y_train, y_test)"
   ]
  },
  {
   "cell_type": "code",
   "execution_count": 126,
   "metadata": {
    "collapsed": true
   },
   "outputs": [],
   "source": [
    "rbf_svc = svm.SVC(kernel='rbf', gamma=0.7)"
   ]
  },
  {
   "cell_type": "code",
   "execution_count": 127,
   "metadata": {
    "collapsed": false
   },
   "outputs": [
    {
     "name": "stdout",
     "output_type": "stream",
     "text": [
      "[ 0.47826087  0.46956522  0.45614035  0.44736842  0.49122807  0.69298246\n",
      "  0.44736842]\n",
      "Mean score: 0.498 (+/-0.033)\n"
     ]
    }
   ],
   "source": [
    "evaluate_cross_validation(rbf_svc, X_train, y_train, 7)"
   ]
  },
  {
   "cell_type": "code",
   "execution_count": 128,
   "metadata": {
    "collapsed": false
   },
   "outputs": [
    {
     "name": "stdout",
     "output_type": "stream",
     "text": [
      "Accuracy on training set:\n",
      "1.0\n",
      "Accuracy on testing set:\n",
      "0.45\n",
      "Classification Report:\n",
      "             precision    recall  f1-score   support\n",
      "\n",
      "        0.0       0.45      1.00      0.62        89\n",
      "        1.0       0.00      0.00      0.00       111\n",
      "\n",
      "avg / total       0.20      0.45      0.27       200\n",
      "\n",
      "Confusion Matrix:\n",
      "[[ 89   0]\n",
      " [111   0]]\n"
     ]
    }
   ],
   "source": [
    "train_and_evaluate(rbf_svc, X_train, X_test, y_train, y_test)"
   ]
  },
  {
   "cell_type": "code",
   "execution_count": 129,
   "metadata": {
    "collapsed": false
   },
   "outputs": [
    {
     "name": "stdout",
     "output_type": "stream",
     "text": [
      "[ 0.8173913   0.8173913   0.8245614   0.8245614   0.85964912  0.85964912\n",
      "  0.84210526]\n",
      "Mean score: 0.835 (+/-0.007)\n"
     ]
    }
   ],
   "source": [
    "poly_svc = svm.SVC(kernel='poly', degree=3)\n",
    "evaluate_cross_validation(poly_svc, X_train, y_train, 7)"
   ]
  },
  {
   "cell_type": "code",
   "execution_count": 130,
   "metadata": {
    "collapsed": false
   },
   "outputs": [
    {
     "name": "stdout",
     "output_type": "stream",
     "text": [
      "Accuracy on training set:\n",
      "0.98\n",
      "Accuracy on testing set:\n",
      "0.87\n",
      "Classification Report:\n",
      "             precision    recall  f1-score   support\n",
      "\n",
      "        0.0       0.90      0.80      0.85        89\n",
      "        1.0       0.85      0.93      0.89       111\n",
      "\n",
      "avg / total       0.87      0.87      0.87       200\n",
      "\n",
      "Confusion Matrix:\n",
      "[[ 71  18]\n",
      " [  8 103]]\n"
     ]
    }
   ],
   "source": [
    "train_and_evaluate(poly_svc, X_train, X_test, y_train, y_test)"
   ]
  },
  {
   "cell_type": "code",
   "execution_count": 131,
   "metadata": {
    "collapsed": false
   },
   "outputs": [],
   "source": [
    "#Solution = np.dtype(bool)\n"
   ]
  },
  {
   "cell_type": "code",
   "execution_count": 132,
   "metadata": {
    "collapsed": false
   },
   "outputs": [
    {
     "data": {
      "text/plain": [
       "array([ 1.,  1.,  0., ...,  1.,  0.,  1.])"
      ]
     },
     "execution_count": 132,
     "metadata": {},
     "output_type": "execute_result"
    }
   ],
   "source": [
    "Solution = poly_svc.predict(test_pca)\n",
    "Solution"
   ]
  },
  {
   "cell_type": "code",
   "execution_count": 133,
   "metadata": {
    "collapsed": false
   },
   "outputs": [],
   "source": [
    "Id = np.arange(1,9001,1)\n",
    "labels =  np.column_stack((Id, Solution))"
   ]
  },
  {
   "cell_type": "code",
   "execution_count": 134,
   "metadata": {
    "collapsed": false
   },
   "outputs": [],
   "source": [
    "np.savetxt('/Users/neha/Documents/Kaggle/SkikitLearn/output_1.csv',labels,delimiter=',')\n"
   ]
  },
  {
   "cell_type": "code",
   "execution_count": null,
   "metadata": {
    "collapsed": true
   },
   "outputs": [],
   "source": []
  }
 ],
 "metadata": {
  "anaconda-cloud": {},
  "kernelspec": {
   "display_name": "Python [default]",
   "language": "python",
   "name": "python2"
  },
  "language_info": {
   "codemirror_mode": {
    "name": "ipython",
    "version": 2
   },
   "file_extension": ".py",
   "mimetype": "text/x-python",
   "name": "python",
   "nbconvert_exporter": "python",
   "pygments_lexer": "ipython2",
   "version": "2.7.13"
  }
 },
 "nbformat": 4,
 "nbformat_minor": 1
}
